{
 "cells": [
  {
   "cell_type": "code",
   "execution_count": 3,
   "id": "e170d651",
   "metadata": {},
   "outputs": [],
   "source": [
    "# Question 7\n",
    "# Jack has been prescribed 5 medications, \n",
    "# write a variable named \"Medication\", and store in it the number of medications he has."
   ]
  },
  {
   "cell_type": "code",
   "execution_count": null,
   "id": "45a5439b",
   "metadata": {},
   "outputs": [],
   "source": [
    "Medication = 5"
   ]
  },
  {
   "cell_type": "code",
   "execution_count": null,
   "id": "4eeffbb1",
   "metadata": {},
   "outputs": [],
   "source": [
    "# Print the type of the variable ''Medication\""
   ]
  },
  {
   "cell_type": "code",
   "execution_count": 2,
   "id": "8de77274",
   "metadata": {},
   "outputs": [
    {
     "name": "stdout",
     "output_type": "stream",
     "text": [
      "<class 'int'>\n"
     ]
    }
   ],
   "source": [
    "print(type(Medication))"
   ]
  },
  {
   "cell_type": "code",
   "execution_count": null,
   "id": "0863f6ec",
   "metadata": {},
   "outputs": [],
   "source": []
  }
 ],
 "metadata": {
  "kernelspec": {
   "display_name": "Python 3 (ipykernel)",
   "language": "python",
   "name": "python3"
  },
  "language_info": {
   "codemirror_mode": {
    "name": "ipython",
    "version": 3
   },
   "file_extension": ".py",
   "mimetype": "text/x-python",
   "name": "python",
   "nbconvert_exporter": "python",
   "pygments_lexer": "ipython3",
   "version": "3.9.12"
  }
 },
 "nbformat": 4,
 "nbformat_minor": 5
}
